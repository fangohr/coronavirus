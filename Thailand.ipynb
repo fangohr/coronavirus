{
 "cells": [
  {
   "cell_type": "markdown",
   "metadata": {},
   "source": [
    "# Thailand (data from Johns Hopkins)\n",
    "\n",
    "Homepage of project: https://github.com/fangohr/coronavirus-2020/blob/master/README.md"
   ]
  },
  {
   "cell_type": "code",
   "execution_count": null,
   "metadata": {},
   "outputs": [],
   "source": [
    "%config InlineBackend.figure_formats = ['svg']\n",
    "from coronavirus import *\n",
    "pd.set_option(\"max_rows\", 200)   # show tables with up to 200 rows"
   ]
  },
  {
   "cell_type": "code",
   "execution_count": null,
   "metadata": {
    "scrolled": false
   },
   "outputs": [],
   "source": [
    "overview(\"Thailand\");"
   ]
  },
  {
   "cell_type": "code",
   "execution_count": null,
   "metadata": {},
   "outputs": [],
   "source": [
    "# load the data \n",
    "cases, deaths = get_country_data(\"Thailand\")\n",
    "\n",
    "# compose into one table\n",
    "table = compose_dataframe_summary(cases, deaths)\n",
    "\n",
    "# display the table\n",
    "table"
   ]
  },
  {
   "cell_type": "markdown",
   "metadata": {},
   "source": [
    "# Explore the data in your web browser\n",
    "\n",
    "- If you want to execute this notebook, click [here](https://mybinder.org/v2/gh/fangohr/coronavirus/master?filepath=wwwroot/Thailand.ipynb)\n",
    "- and wait (~1 to 2 minutes)\n",
    "- Then press SHIFT+RETURN to advance code cell to code cell\n",
    "- See http://jupyter.org for more details on how to use Jupyter Notebook\n",
    "\n",
    "\n",
    "# Acknowledgements:\n",
    "\n",
    "- Johns Hopkins University provides data for countries\n",
    "- Robert Koch Institute provides data for within Germany\n",
    "- Open source and scientific computing community for the data tools\n",
    "- github for hosting repository\n",
    "- Project Jupyter for the Notebook and binder service\n",
    "- The H2020 project Photon and Neutron Open Science Cloud ([PaNOSC](https://www.panosc.eu/))\n"
   ]
  }
 ],
 "metadata": {
  "anaconda-cloud": {},
  "kernelspec": {
   "display_name": "Python 3",
   "language": "python",
   "name": "python3"
  },
  "language_info": {
   "codemirror_mode": {
    "name": "ipython",
    "version": 3
   },
   "file_extension": ".py",
   "mimetype": "text/x-python",
   "name": "python",
   "nbconvert_exporter": "python",
   "pygments_lexer": "ipython3",
   "version": "3.7.4"
  }
 },
 "nbformat": 4,
 "nbformat_minor": 2
}
